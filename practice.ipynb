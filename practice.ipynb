{
 "cells": [
  {
   "cell_type": "markdown",
   "metadata": {},
   "source": [
    "3장"
   ]
  },
  {
   "cell_type": "markdown",
   "metadata": {},
   "source": [
    "1"
   ]
  },
  {
   "cell_type": "code",
   "execution_count": 12,
   "metadata": {},
   "outputs": [
    {
     "name": "stdout",
     "output_type": "stream",
     "text": [
      "tensor([0, 1, 2, 3, 4, 5, 6, 7, 8]) torch.Size([9]) 0 (1,)\n",
      "True\n",
      "tensor([[4, 5],\n",
      "        [7, 8]]) torch.Size([2, 2]) 4 (3, 1)\n"
     ]
    }
   ],
   "source": [
    "import torch\n",
    "\n",
    "# 1\n",
    "a = torch.tensor(list(range(9)))\n",
    "print(a, a.size(), a.storage_offset(), a.stride())\n",
    "\n",
    "# 1-a\n",
    "b = a.view(3,3)\n",
    "print(id(a.storage()) == id(b.storage()))\n",
    "\n",
    "c = b[1:,1:]\n",
    "print(c, c.size(), c.storage_offset(), c.stride())"
   ]
  },
  {
   "cell_type": "markdown",
   "metadata": {},
   "source": [
    "4장"
   ]
  },
  {
   "cell_type": "markdown",
   "metadata": {},
   "source": [
    "1-a     \n",
    "\n",
    "각 이미지를 읽어 텐서로 변환하라"
   ]
  },
  {
   "cell_type": "code",
   "execution_count": 4,
   "metadata": {},
   "outputs": [
    {
     "name": "stderr",
     "output_type": "stream",
     "text": [
      "C:\\Users\\user\\AppData\\Local\\Temp\\ipykernel_14576\\2213043100.py:7: DeprecationWarning: Starting with ImageIO v3 the behavior of this function will switch to that of iio.v3.imread. To keep the current behavior (and make this warning disappear) use `import imageio.v2 as imageio` or call `imageio.v2.imread` directly.\n",
      "  img_arr = imageio.imread(img_path)\n"
     ]
    },
    {
     "name": "stdout",
     "output_type": "stream",
     "text": [
      "red torch.Size([3, 107, 78])\n",
      "green torch.Size([3, 151, 360])\n",
      "blue torch.Size([3, 360, 360])\n"
     ]
    }
   ],
   "source": [
    "import torch\n",
    "import imageio\n",
    "from PIL import Image\n",
    "\n",
    "\n",
    "def image_to_tensor(img_path):\n",
    "    img_arr = imageio.imread(img_path)\n",
    "    img = torch.tensor(img_arr.tolist())\n",
    "    img = img.permute(2,0,1).float()\n",
    "    img = img[:3]                                   #알파 채널 제거\n",
    "    return img\n",
    "\n",
    "red_img = image_to_tensor(\"D:\\\\pytorch\\\\data\\\\image\\\\4practice\\\\red.png\")\n",
    "print(f'red {red_img.shape}')\n",
    "\n",
    "green_img = image_to_tensor(\"D:\\\\pytorch\\\\data\\\\image\\\\4practice\\\\green.png\")\n",
    "print(f'green {green_img.shape}')\n",
    "\n",
    "blue_img = image_to_tensor(\"D:\\\\pytorch\\\\data\\\\image\\\\4practice\\\\blue.png\")\n",
    "print(f'blue {blue_img.shape}')"
   ]
  },
  {
   "cell_type": "code",
   "execution_count": 5,
   "metadata": {},
   "outputs": [
    {
     "data": {
      "image/png": "[encoded data removed]",
      "text/plain": [
       "<PIL.PngImagePlugin.PngImageFile image mode=RGBA size=78x107>"
      ]
     },
     "execution_count": 5,
     "metadata": {},
     "output_type": "execute_result"
    }
   ],
   "source": [
    "Image.open(\"D:\\\\pytorch\\\\data\\\\image\\\\4practice\\\\red.png\")"
   ]
  },
  {
   "cell_type": "markdown",
   "metadata": {},
   "source": [
    "1-b \n",
    "\n",
    "각 이미지 텐서에 대해 .mean() 메소드를 사용해 이미지가 얼마나 밝은지 확인하라"
   ]
  },
  {
   "cell_type": "code",
   "execution_count": 29,
   "metadata": {},
   "outputs": [
    {
     "name": "stdout",
     "output_type": "stream",
     "text": [
      "red bright 181.5168914794922\n",
      "green bright 134.91372680664062\n",
      "blue bright 201.5252685546875\n"
     ]
    }
   ],
   "source": [
    "red_bright = red_img.mean()\n",
    "print(f'red bright {red_bright}')\n",
    "\n",
    "green_bright = green_img.mean()\n",
    "print(f'green bright {green_bright}')\n",
    "\n",
    "blue_bright = blue_img.mean()\n",
    "print(f'blue bright {blue_bright}')"
   ]
  },
  {
   "cell_type": "markdown",
   "metadata": {},
   "source": [
    "1-c \n",
    "\n",
    "이미지의 각 체널 평균을 구해보라. 채널 평균값만으로 빨간색, 파란색, 초록색 물건을 구별할 수 있는가"
   ]
  },
  {
   "cell_type": "code",
   "execution_count": 30,
   "metadata": {},
   "outputs": [
    {
     "name": "stdout",
     "output_type": "stream",
     "text": [
      "red channel manes tensor([227.9025, 155.1385, 161.5097])\n",
      "green channel means tensor([ 99.2177, 180.2163, 125.3071])\n",
      "blue channel means tensor([183.6869, 189.4788, 231.4102])\n"
     ]
    }
   ],
   "source": [
    "red_channel_means = red_img.mean(dim=(1,2))\n",
    "green_channel_means = green_img.mean(dim=(1,2))\n",
    "blue_channel_means = blue_img.mean(dim=(1,2))\n",
    "print(f'red channel manes {red_channel_means}\\ngreen channel means {green_channel_means}\\nblue channel means {blue_channel_means}')"
   ]
  },
  {
   "cell_type": "markdown",
   "metadata": {},
   "source": [
    "2-a \n",
    "\n",
    "파이썬 소스 파일의 모든 단어에 대한 인덱스를 만들어라(단어 구분 방식은 단순하게 만들어도 되고 원하는 만큼 복잡하게 해도 된다. r\"[^a-zA-Z0-9_]+\"을 공백으로 치환하는 것부터 시작하면 좋을 것이다)"
   ]
  },
  {
   "cell_type": "code",
   "execution_count": 40,
   "metadata": {},
   "outputs": [
    {
     "name": "stdout",
     "output_type": "stream",
     "text": [
      "Number of unique words in Python file: 48\n"
     ]
    },
    {
     "data": {
      "text/plain": [
       "defaultdict(list,\n",
       "            {'def': [0, 8, 16, 57, 124, 144],\n",
       "             'convert_to_int': [1, 92, 96],\n",
       "             'a': [2,\n",
       "              5,\n",
       "              10,\n",
       "              13,\n",
       "              18,\n",
       "              22,\n",
       "              31,\n",
       "              40,\n",
       "              42,\n",
       "              49,\n",
       "              59,\n",
       "              64,\n",
       "              67,\n",
       "              71,\n",
       "              72,\n",
       "              87,\n",
       "              93,\n",
       "              146,\n",
       "              158,\n",
       "              166],\n",
       "             'return': [3, 11, 25, 32, 46, 53, 55, 120, 139, 151, 157, 190],\n",
       "             'ord': [4, 6, 14],\n",
       "             '0': [7,\n",
       "              15,\n",
       "              56,\n",
       "              68,\n",
       "              74,\n",
       "              81,\n",
       "              105,\n",
       "              112,\n",
       "              128,\n",
       "              136,\n",
       "              143,\n",
       "              150,\n",
       "              159,\n",
       "              170,\n",
       "              175],\n",
       "             'convert_to_char': [9, 115, 183],\n",
       "             'chr': [12],\n",
       "             'compare': [17, 172],\n",
       "             'b': [19,\n",
       "              24,\n",
       "              29,\n",
       "              44,\n",
       "              51,\n",
       "              60,\n",
       "              66,\n",
       "              73,\n",
       "              77,\n",
       "              78,\n",
       "              97,\n",
       "              147,\n",
       "              149,\n",
       "              155,\n",
       "              174,\n",
       "              179],\n",
       "             'if': [20, 41, 103, 148, 154, 195],\n",
       "             'len': [21, 23, 28, 30, 39, 63, 65, 70, 76, 86, 131],\n",
       "             '1': [26, 33, 47, 54, 88, 89, 90, 109, 119, 138, 156, 181, 205],\n",
       "             'elif': [27, 48],\n",
       "             'else': [34, 110],\n",
       "             'for': [35, 82, 163],\n",
       "             'i': [36, 43, 45, 50, 52, 83, 94, 98, 127, 130, 135, 137, 141],\n",
       "             'in': [37, 84, 165],\n",
       "             'range': [38, 85],\n",
       "             'sub_str': [58, 177],\n",
       "             'max_len': [61, 69, 75],\n",
       "             'max': [62],\n",
       "             'result': [79, 113, 117, 118, 123],\n",
       "             'carry': [80, 102, 108, 111],\n",
       "             'digit_a': [91, 100],\n",
       "             'digit_b': [95, 101],\n",
       "             'sub': [99, 104, 106, 116],\n",
       "             '10': [107],\n",
       "             'append': [114],\n",
       "             'remove_zero': [121, 125, 186, 191, 193],\n",
       "             'join': [122],\n",
       "             's': [126, 132, 134, 140],\n",
       "             'while': [129, 171],\n",
       "             'and': [133],\n",
       "             'or': [142],\n",
       "             'quotient_remainder': [145, 199, 203],\n",
       "             'none': [152, 153],\n",
       "             'quo': [160, 182, 192],\n",
       "             'rem': [161, 188, 194],\n",
       "             'cur': [162, 167, 173, 176, 178, 185, 187, 189],\n",
       "             'n': [164, 168],\n",
       "             'q': [169, 180, 184],\n",
       "             '__name__': [196],\n",
       "             '__main__': [197],\n",
       "             'print': [198, 202],\n",
       "             '5': [200],\n",
       "             '15': [201],\n",
       "             '3': [204]})"
      ]
     },
     "execution_count": 40,
     "metadata": {},
     "output_type": "execute_result"
    }
   ],
   "source": [
    "import re\n",
    "from collections import defaultdict\n",
    "\n",
    "def create_word_index(file_path):\n",
    "    with open(file_path, 'r', encoding='utf-8') as file:\n",
    "        text = file.read()\n",
    "    \n",
    "    # 정규 표현식을 사용하여 단어를 추출\n",
    "    words = re.split(r\"[^a-zA-Z0-9_]+\", text)\n",
    "    \n",
    "    # 단어 인덱스 생성\n",
    "    word_index = defaultdict(list)\n",
    "    for i, word in enumerate(words):\n",
    "        if word:  # 빈 문자열은 제외\n",
    "            word_index[word.lower()].append(i)\n",
    "    \n",
    "    return word_index\n",
    "\n",
    "# 파이썬 소스 코드 파일 경로\n",
    "python_file_path = \"D:\\\\pytorch\\\\data\\\\4practice.py\"\n",
    "\n",
    "# 단어 인덱스 생성\n",
    "python_word_index = create_word_index(python_file_path)\n",
    "\n",
    "# 단어 수 출력\n",
    "print(f'Number of unique words in Python file: {len(python_word_index)}')\n"
   ]
  },
  {
   "cell_type": "markdown",
   "metadata": {},
   "source": [
    "2-b\n",
    "\n",
    "오만과 편견에서 만든 색인과 비교해보자. 어떤 것이 더 큰가"
   ]
  },
  {
   "cell_type": "code",
   "execution_count": 38,
   "metadata": {},
   "outputs": [
    {
     "data": {
      "text/plain": [
       "(tensor([[1., 0., 0.,  ..., 0., 0., 0.],\n",
       "         [0., 1., 0.,  ..., 0., 0., 0.],\n",
       "         [0., 0., 1.,  ..., 0., 0., 0.],\n",
       "         ...,\n",
       "         [0., 0., 0.,  ..., 1., 0., 0.],\n",
       "         [0., 0., 0.,  ..., 0., 1., 0.],\n",
       "         [0., 0., 0.,  ..., 0., 0., 1.]]),\n",
       " torch.Size([7261, 7261]))"
      ]
     },
     "execution_count": 38,
     "metadata": {},
     "output_type": "execute_result"
    }
   ],
   "source": [
    "# 오만과 편견\n",
    "\n",
    "with open(\"D:\\\\pytorch\\\\data\\\\pytorch-master\\\\data\\\\p1ch4\\\\jane-austen\\\\1342-0.txt\",encoding='utf8') as f:\n",
    "    text = f.read()\n",
    "    \n",
    "def clean_words(input_str):\n",
    "    punctuation = '.,;:\"!?“”_-'\n",
    "    word_list = input_str.lower().replace('\\n',' ').split()\n",
    "    word_list = [word.strip(punctuation) for word in word_list]\n",
    "    return word_list\n",
    "\n",
    "word_list = sorted(set(clean_words(text)))\n",
    "word2index_dict = {word: i for (i,word) in enumerate(word_list)}\n",
    "\n",
    "import torch\n",
    "\n",
    "def create_one_hot_tensor(word_list, word2index_dict):\n",
    "    vocab_size = len(word_list)\n",
    "    one_hot_tensor = torch.zeros((vocab_size, vocab_size), dtype=torch.float32)\n",
    "    \n",
    "    for word, index in word2index_dict.items():\n",
    "        one_hot_tensor[index, index] = 1.0\n",
    "    \n",
    "    return one_hot_tensor\n",
    "\n",
    "one_hot_tensor = create_one_hot_tensor(word_list, word2index_dict)\n",
    "one_hot_tensor, one_hot_tensor.shape\n"
   ]
  },
  {
   "cell_type": "code",
   "execution_count": null,
   "metadata": {},
   "outputs": [],
   "source": []
  }
 ],
 "metadata": {
  "kernelspec": {
   "display_name": ".venv",
   "language": "python",
   "name": "python3"
  },
  "language_info": {
   "codemirror_mode": {
    "name": "ipython",
    "version": 3
   },
   "file_extension": ".py",
   "mimetype": "text/x-python",
   "name": "python",
   "nbconvert_exporter": "python",
   "pygments_lexer": "ipython3",
   "version": "3.12.4"
  }
 },
 "nbformat": 4,
 "nbformat_minor": 2
}
